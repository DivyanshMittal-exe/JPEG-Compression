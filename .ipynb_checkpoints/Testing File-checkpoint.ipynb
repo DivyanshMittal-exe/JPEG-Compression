{
 "cells": [
  {
   "cell_type": "code",
   "execution_count": null,
   "id": "013710f0",
   "metadata": {},
   "outputs": [],
   "source": [
    "import cv2\n",
    "import math\n",
    "import numpy as np\n",
    "from DFT import *\n",
    "from HuffmanEncode import *\n",
    "from Subsample import *\n",
    "from Quantisation import *\n"
   ]
  },
  {
   "cell_type": "code",
   "execution_count": null,
   "id": "9d40f7c7",
   "metadata": {},
   "outputs": [],
   "source": [
    "path = \"dog.NEF\"\n",
    "subs= 2"
   ]
  },
  {
   "cell_type": "code",
   "execution_count": null,
   "id": "f2b3b046",
   "metadata": {},
   "outputs": [],
   "source": [
    "img = cv2.imread(path)\n",
    "row,col,c = img.shape"
   ]
  },
  {
   "cell_type": "code",
   "execution_count": null,
   "id": "2ebc5e9d",
   "metadata": {},
   "outputs": [],
   "source": [
    "img = cv2.cvtColor(img, cv2.COLOR_BGR2YCR_CB)"
   ]
  },
  {
   "cell_type": "code",
   "execution_count": null,
   "id": "8e064842",
   "metadata": {},
   "outputs": [],
   "source": [
    "Y  = img[(row%subs//2):row - (row%subs//2),(col%subs//2):col - (col%subs//2),0]\n",
    "Cb = img[(row%subs//2):row - (row%subs//2),(col%subs//2):col - (col%subs//2),1]\n",
    "Cr = img[(row%subs//2):row - (row%subs//2),(col%subs//2):col - (col%subs//2),2]\n"
   ]
  },
  {
   "cell_type": "code",
   "execution_count": null,
   "id": "cf4044df",
   "metadata": {},
   "outputs": [],
   "source": [
    "# cv2.imshow('Raw',Cr)\n",
    "# cv2.waitKey(0)"
   ]
  },
  {
   "cell_type": "code",
   "execution_count": null,
   "id": "b3484b22",
   "metadata": {},
   "outputs": [],
   "source": [
    "arr = np.zeros([8,8])\n",
    "\n",
    "for i in range(8):\n",
    "    for j in range(8):\n",
    "        a = 1/np.sqrt(8)\n",
    "        if i != 0:\n",
    "            a = np.sqrt(1/4)\n",
    "            a = a*math.cos(((2*j+1)*i*math.pi)/16)\n",
    "        arr[i,j] = a\n",
    "            \n",
    "print(arr)"
   ]
  },
  {
   "cell_type": "raw",
   "id": "246352c2",
   "metadata": {},
   "source": [
    "t = np.array([[154,123,123,123,123,123,123,136],\n",
    "        [ 192,180,136,154,154,154,136,110],\n",
    "        [ 254,198,154,154,180,154,123,123],\n",
    "        [ 239,180,136,180,180,166,123,123],\n",
    "        [ 180,154,136,167,166,149,136,136],\n",
    "        [ 128,136,123,136,154,180,198,154],\n",
    "        [ 123,105,110,149,136,136,180,166],\n",
    "        [ 110,136,123,123,123,136,154,136]])\n",
    "    "
   ]
  },
  {
   "cell_type": "code",
   "execution_count": null,
   "id": "04884af7",
   "metadata": {},
   "outputs": [],
   "source": [
    "print(dft(t))"
   ]
  },
  {
   "cell_type": "code",
   "execution_count": null,
   "id": "b04506d8",
   "metadata": {},
   "outputs": [],
   "source": []
  },
  {
   "cell_type": "code",
   "execution_count": null,
   "id": "6e4b0559",
   "metadata": {},
   "outputs": [],
   "source": []
  }
 ],
 "metadata": {
  "kernelspec": {
   "display_name": "Python 3 (ipykernel)",
   "language": "python",
   "name": "python3"
  },
  "language_info": {
   "codemirror_mode": {
    "name": "ipython",
    "version": 3
   },
   "file_extension": ".py",
   "mimetype": "text/x-python",
   "name": "python",
   "nbconvert_exporter": "python",
   "pygments_lexer": "ipython3",
   "version": "3.9.2"
  }
 },
 "nbformat": 4,
 "nbformat_minor": 5
}
