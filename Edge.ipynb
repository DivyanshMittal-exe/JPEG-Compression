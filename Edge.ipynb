{
 "cells": [
  {
   "cell_type": "code",
   "execution_count": null,
   "metadata": {},
   "outputs": [],
   "source": []
  },
  {
   "cell_type": "code",
   "execution_count": 4,
   "metadata": {},
   "outputs": [],
   "source": [
    "import cv2\n",
    "import numpy as np"
   ]
  },
  {
   "cell_type": "code",
   "execution_count": 5,
   "metadata": {},
   "outputs": [],
   "source": [
    "path = \"butterfly.jpg\""
   ]
  },
  {
   "cell_type": "code",
   "execution_count": 9,
   "metadata": {},
   "outputs": [],
   "source": [
    "def convolute(img,kernel):\n",
    "    row,col,c = img.shape\n",
    "    output = img.copy()\n",
    "    for i in range(1,row-1):\n",
    "        for j in range(1,col-1):\n",
    "            for k in range(c):\n",
    "                window = img[i-1:i+2,j-1:j+2,k]\n",
    "                output[i,j,k] = np.sum(np.multiply(window,kernel))\n",
    "    return output   \n",
    "\n",
    "\n",
    "def gaussian_blur(img):\n",
    "    kernel = np.array([[1/16,2/16,1/16],\n",
    "                       [2/16,4/16,2/16],\n",
    "                       [1/16,2/16,1/16]])\n",
    "\n",
    "    return convolute(img,kernel)           "
   ]
  },
  {
   "cell_type": "code",
   "execution_count": 10,
   "metadata": {},
   "outputs": [],
   "source": [
    "def sobel_filter(img):\n",
    "    Gy = np.array([[1,2,1],\n",
    "                    [0,0,0],\n",
    "                    [-1,-2,-1]])\n",
    "    Gx = np.array([[1,0,-1],\n",
    "                    [2,0,-2],\n",
    "                    [1,0,-1]])\n",
    "    \n",
    "    bw_img = cv2.cvtColor(img, cv2.COLOR_BGR2GRAY)\n",
    "    \n",
    "    bw_img = bw_img.reshape((bw_img.shape[0],bw_img.shape[1],1))\n",
    "    output = cv2.cvtColor(img, cv2.COLOR_BGR2HSV)\n",
    "    X_edge = convolute(bw_img,Gx)\n",
    "    Y_edge = convolute(bw_img,Gy)\n",
    "    V = np.sqrt(np.add(np.square(X_edge),np.square(Y_edge)))\n",
    "    print(V)\n",
    "    cv2.imshow('Raw',V)\n",
    "    cv2.waitKey(0)\n",
    "    # return np.array([V[:,:,0],V[:,:,0],V[:,:,0]])\n",
    "    H = np.arctan(np.divide(Y_edge,X_edge))*229.18 + 114.59\n",
    "    print(V.shape)\n",
    "    print(H.shape)\n",
    "    output[:,:,0] = H[:,:,0]*1.3\n",
    "    output[:,:,1] = np.ones(V[:,:,0].shape)*100\n",
    "    output[:,:,2] = V[:,:,0]\n",
    "    return cv2.cvtColor(output, cv2.COLOR_HSV2BGR)"
   ]
  },
  {
   "cell_type": "code",
   "execution_count": 11,
   "metadata": {},
   "outputs": [],
   "source": [
    "img = cv2.imread(path)\n",
    "row,col,c = img.shape\n",
    "blured = gaussian_blur(img)\n",
    "\n",
    "        "
   ]
  },
  {
   "cell_type": "code",
   "execution_count": 12,
   "metadata": {},
   "outputs": [
    {
     "data": {
      "text/plain": [
       "array([[[21, 65, 34],\n",
       "        [21, 65, 34],\n",
       "        [20, 67, 35],\n",
       "        ...,\n",
       "        [19, 47, 24],\n",
       "        [19, 47, 24],\n",
       "        [19, 47, 24]],\n",
       "\n",
       "       [[24, 66, 35],\n",
       "        [22, 65, 34],\n",
       "        [21, 66, 35],\n",
       "        ...,\n",
       "        [19, 48, 25],\n",
       "        [20, 48, 25],\n",
       "        [21, 49, 26]],\n",
       "\n",
       "       [[25, 66, 35],\n",
       "        [23, 64, 34],\n",
       "        [22, 64, 35],\n",
       "        ...,\n",
       "        [20, 50, 26],\n",
       "        [21, 50, 26],\n",
       "        [22, 52, 27]],\n",
       "\n",
       "       ...,\n",
       "\n",
       "       [[11, 65, 35],\n",
       "        [11, 68, 38],\n",
       "        [13, 71, 42],\n",
       "        ...,\n",
       "        [19, 55, 30],\n",
       "        [19, 56, 31],\n",
       "        [21, 57, 33]],\n",
       "\n",
       "       [[11, 63, 33],\n",
       "        [11, 66, 36],\n",
       "        [11, 68, 38],\n",
       "        ...,\n",
       "        [15, 50, 26],\n",
       "        [15, 51, 27],\n",
       "        [15, 51, 27]],\n",
       "\n",
       "       [[14, 66, 36],\n",
       "        [12, 66, 36],\n",
       "        [10, 66, 37],\n",
       "        ...,\n",
       "        [11, 47, 23],\n",
       "        [10, 46, 22],\n",
       "        [10, 46, 22]]], dtype=uint8)"
      ]
     },
     "execution_count": 12,
     "metadata": {},
     "output_type": "execute_result"
    }
   ],
   "source": [
    "blured"
   ]
  },
  {
   "cell_type": "code",
   "execution_count": 13,
   "metadata": {},
   "outputs": [],
   "source": [
    "    Gy = np.array([[1,2,1],\n",
    "                    [0,0,0],\n",
    "                    [-1,-2,-1]])\n",
    "    Gx = np.array([[1,0,-1],\n",
    "                    [2,0,-2],\n",
    "                    [1,0,-1]])\n",
    "    \n",
    "    bw_img = cv2.cvtColor(blured, cv2.COLOR_BGR2GRAY)"
   ]
  },
  {
   "cell_type": "code",
   "execution_count": 14,
   "metadata": {},
   "outputs": [
    {
     "data": {
      "text/plain": [
       "array([[51, 51, 52, ..., 37, 37, 37],\n",
       "       [52, 51, 52, ..., 38, 38, 39],\n",
       "       [52, 50, 51, ..., 39, 40, 41],\n",
       "       ...,\n",
       "       [50, 53, 56, ..., 43, 44, 46],\n",
       "       [48, 51, 53, ..., 39, 40, 40],\n",
       "       [51, 51, 51, ..., 36, 35, 35]], dtype=uint8)"
      ]
     },
     "execution_count": 14,
     "metadata": {},
     "output_type": "execute_result"
    }
   ],
   "source": [
    "bw_img"
   ]
  },
  {
   "cell_type": "code",
   "execution_count": 15,
   "metadata": {},
   "outputs": [],
   "source": [
    "    bw_img = bw_img.reshape((bw_img.shape[0],bw_img.shape[1],1))\n",
    "    output = cv2.cvtColor(blured, cv2.COLOR_BGR2HSV)\n",
    "    X_edge = convolute(bw_img,Gx)\n",
    "    Y_edge = convolute(bw_img,Gy)\n",
    "    V = np.sqrt(np.add(np.square(X_edge),np.square(Y_edge)))"
   ]
  },
  {
   "cell_type": "code",
   "execution_count": 19,
   "metadata": {},
   "outputs": [
    {
     "data": {
      "text/plain": [
       "array([[51, 51, 52, ..., 37, 37, 37],\n",
       "       [52, 51, 52, ..., 38, 38, 39],\n",
       "       [52, 50, 51, ..., 39, 40, 41],\n",
       "       ...,\n",
       "       [50, 53, 56, ..., 43, 44, 46],\n",
       "       [48, 51, 53, ..., 39, 40, 40],\n",
       "       [51, 51, 51, ..., 36, 35, 35]], dtype=uint8)"
      ]
     },
     "execution_count": 19,
     "metadata": {},
     "output_type": "execute_result"
    }
   ],
   "source": [
    "bw_img[:,:,0]"
   ]
  },
  {
   "cell_type": "code",
   "execution_count": 20,
   "metadata": {},
   "outputs": [
    {
     "data": {
      "text/plain": [
       "array([[ 9.055,  9.055,  5.656, ..., 13.34 , 13.34 , 13.34 ],\n",
       "       [ 5.656,  2.   ,  8.6  , ..., 10.77 , 12.65 , 15.03 ],\n",
       "       [ 5.656,  9.484, 12.   , ..., 12.65 , 13.414,  5.832],\n",
       "       ...,\n",
       "       [11.664,  6.   , 15.3  , ..., 14.   , 15.234, 11.664],\n",
       "       [ 0.   ,  8.   ,  8.6  , ...,  9.055,  5.656, 11.31 ],\n",
       "       [ 9.055,  9.055,  9.055, ...,  5.656, 12.086, 12.086]],\n",
       "      dtype=float16)"
      ]
     },
     "execution_count": 20,
     "metadata": {},
     "output_type": "execute_result"
    }
   ],
   "source": [
    "V[:,:,0].astype(np.)"
   ]
  },
  {
   "cell_type": "code",
   "execution_count": 25,
   "metadata": {},
   "outputs": [
    {
     "data": {
      "text/plain": [
       "-1"
      ]
     },
     "execution_count": 25,
     "metadata": {},
     "output_type": "execute_result"
    }
   ],
   "source": [
    "        cv2.imshow('Raw',(V[:,:,0]*5).astype('uint8'))\n",
    "        cv2.waitKey(0)"
   ]
  },
  {
   "cell_type": "code",
   "execution_count": null,
   "metadata": {},
   "outputs": [],
   "source": []
  }
 ],
 "metadata": {
  "kernelspec": {
   "display_name": "Python 3 (ipykernel)",
   "language": "python",
   "name": "python3"
  },
  "language_info": {
   "codemirror_mode": {
    "name": "ipython",
    "version": 3
   },
   "file_extension": ".py",
   "mimetype": "text/x-python",
   "name": "python",
   "nbconvert_exporter": "python",
   "pygments_lexer": "ipython3",
   "version": "3.9.2"
  }
 },
 "nbformat": 4,
 "nbformat_minor": 2
}
