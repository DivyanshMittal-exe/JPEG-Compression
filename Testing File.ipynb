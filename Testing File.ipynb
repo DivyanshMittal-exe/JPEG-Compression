{
 "cells": [
  {
   "cell_type": "code",
   "execution_count": 5,
   "id": "013710f0",
   "metadata": {},
   "outputs": [],
   "source": [
    "import cv2\n",
    "import math\n",
    "import numpy as np"
   ]
  },
  {
   "cell_type": "code",
   "execution_count": 52,
   "id": "9d40f7c7",
   "metadata": {},
   "outputs": [],
   "source": [
    "path = \"dog.NEF\"\n",
    "subs= 2"
   ]
  },
  {
   "cell_type": "code",
   "execution_count": 53,
   "id": "f2b3b046",
   "metadata": {},
   "outputs": [],
   "source": [
    "img = cv2.imread(path)\n",
    "row,col,c = img.shape"
   ]
  },
  {
   "cell_type": "code",
   "execution_count": 54,
   "id": "2ebc5e9d",
   "metadata": {},
   "outputs": [],
   "source": [
    "img = cv2.cvtColor(img, cv2.COLOR_BGR2YCR_CB)"
   ]
  },
  {
   "cell_type": "code",
   "execution_count": 55,
   "id": "8e064842",
   "metadata": {},
   "outputs": [],
   "source": [
    "Y  = img[(row%subs//2):row - (row%subs//2),(col%subs//2):col - (col%subs//2),0]\n",
    "Cb = img[(row%subs//2):row - (row%subs//2),(col%subs//2):col - (col%subs//2),1]\n",
    "Cr = img[(row%subs//2):row - (row%subs//2),(col%subs//2):col - (col%subs//2),2]\n"
   ]
  },
  {
   "cell_type": "code",
   "execution_count": 56,
   "id": "cf4044df",
   "metadata": {},
   "outputs": [
    {
     "data": {
      "text/plain": [
       "27"
      ]
     },
     "execution_count": 56,
     "metadata": {},
     "output_type": "execute_result"
    }
   ],
   "source": [
    "cv2.imshow('Raw',Cr)\n",
    "cv2.waitKey(0)"
   ]
  },
  {
   "cell_type": "code",
   "execution_count": 6,
   "id": "b3484b22",
   "metadata": {},
   "outputs": [
    {
     "name": "stdout",
     "output_type": "stream",
     "text": [
      "[[ 0.35355339  0.35355339  0.35355339  0.35355339  0.35355339  0.35355339\n",
      "   0.35355339  0.35355339]\n",
      " [ 0.49039264  0.41573481  0.27778512  0.09754516 -0.09754516 -0.27778512\n",
      "  -0.41573481 -0.49039264]\n",
      " [ 0.46193977  0.19134172 -0.19134172 -0.46193977 -0.46193977 -0.19134172\n",
      "   0.19134172  0.46193977]\n",
      " [ 0.41573481 -0.09754516 -0.49039264 -0.27778512  0.27778512  0.49039264\n",
      "   0.09754516 -0.41573481]\n",
      " [ 0.35355339 -0.35355339 -0.35355339  0.35355339  0.35355339 -0.35355339\n",
      "  -0.35355339  0.35355339]\n",
      " [ 0.27778512 -0.49039264  0.09754516  0.41573481 -0.41573481 -0.09754516\n",
      "   0.49039264 -0.27778512]\n",
      " [ 0.19134172 -0.46193977  0.46193977 -0.19134172 -0.19134172  0.46193977\n",
      "  -0.46193977  0.19134172]\n",
      " [ 0.09754516 -0.27778512  0.41573481 -0.49039264  0.49039264 -0.41573481\n",
      "   0.27778512 -0.09754516]]\n"
     ]
    }
   ],
   "source": [
    "arr = np.zeros([8,8])\n",
    "\n",
    "for i in range(8):\n",
    "    for j in range(8):\n",
    "        a = 1/np.sqrt(8)\n",
    "        if i != 0:\n",
    "            a = np.sqrt(1/4)\n",
    "            a = a*math.cos(((2*j+1)*i*math.pi)/16)\n",
    "        arr[i,j] = a\n",
    "            \n",
    "print(arr)"
   ]
  },
  {
   "cell_type": "raw",
   "id": "246352c2",
   "metadata": {},
   "source": []
  },
  {
   "cell_type": "code",
   "execution_count": null,
   "id": "04884af7",
   "metadata": {},
   "outputs": [],
   "source": []
  }
 ],
 "metadata": {
  "kernelspec": {
   "display_name": "Python 3 (ipykernel)",
   "language": "python",
   "name": "python3"
  },
  "language_info": {
   "codemirror_mode": {
    "name": "ipython",
    "version": 3
   },
   "file_extension": ".py",
   "mimetype": "text/x-python",
   "name": "python",
   "nbconvert_exporter": "python",
   "pygments_lexer": "ipython3",
   "version": "3.9.2"
  }
 },
 "nbformat": 4,
 "nbformat_minor": 5
}
